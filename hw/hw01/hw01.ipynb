{
  "cells": [
    {
      "cell_type": "markdown",
      "metadata": {
        "id": "view-in-github",
        "colab_type": "text"
      },
      "source": [
        "<a href=\"https://colab.research.google.com/github/ORamiJav/data101-chemeketa/blob/main/hw/hw01/hw01.ipynb\" target=\"_parent\"><img src=\"https://colab.research.google.com/assets/colab-badge.svg\" alt=\"Open In Colab\"/></a>"
      ]
    },
    {
      "cell_type": "code",
      "execution_count": null,
      "metadata": {
        "deletable": false,
        "editable": false,
        "id": "Bx36VPS8mdxt"
      },
      "outputs": [],
      "source": [
        "# Initialize Otter\n",
        "import otter\n",
        "grader = otter.Notebook(\"hw01.ipynb\")"
      ],
      "id": "Bx36VPS8mdxt"
    },
    {
      "cell_type": "markdown",
      "metadata": {
        "id": "3vgeYqRBmdxu"
      },
      "source": [
        "# Homework 1: Causality and Expressions\n",
        "\n",
        "Please complete this notebook by filling in the cells provided. Before you begin, run the previous cell to load the provided tests."
      ],
      "id": "3vgeYqRBmdxu"
    },
    {
      "cell_type": "markdown",
      "metadata": {
        "id": "Z31HsFu6mdxv"
      },
      "source": [
        "**Recommended Readings:**\n",
        "\n",
        "- [What is Data Science?](http://www.inferentialthinking.com/chapters/01/what-is-data-science.html)\n",
        "- [Causality and Experiments](http://www.inferentialthinking.com/chapters/02/causality-and-experiments.html)\n",
        "- [Programming in Python](http://www.inferentialthinking.com/chapters/03/programming-in-python.html)\n",
        "\n",
        "For all problems that you must write explanations and sentences for, you **must** provide your answer in the designated space. Moreover, throughout this homework and all future ones, please be sure to not re-assign variables throughout the notebook! For example, if you use `max_temperature` in your answer to one question, do not reassign it later on. Otherwise, you will fail tests that you thought you were passing previously!\n",
        "\n",
        "\n",
        "**Note: This homework has hidden tests on it. That means even though tests may say 100% passed, it doesn't mean your final grade will be 100%. I will be running more hidden tests for correctness once everyone turns in the homework.**\n",
        "\n",
        "Directly sharing answers is not okay, but discussing problems with the course staff or with other students is encouraged.\n",
        "\n",
        "You should start early so that you have time to get help if you're stuck."
      ],
      "id": "Z31HsFu6mdxv"
    },
    {
      "cell_type": "markdown",
      "metadata": {
        "id": "pYQQQlNkmdxv"
      },
      "source": [
        "## 1. Scary Arithmetic"
      ],
      "id": "pYQQQlNkmdxv"
    },
    {
      "cell_type": "markdown",
      "metadata": {
        "deletable": false,
        "editable": false,
        "id": "5kERk2Rbmdxv"
      },
      "source": [
        "<!-- BEGIN QUESTION -->\n",
        "\n",
        "An ad for ADT Security Systems says,\n",
        "\n",
        "> \"When you go on vacation, burglars go to work [...] According to FBI statistics, over 25% of home burglaries occur between Memorial Day to Labor Day.\"\n",
        "\n",
        "Do the data in the ad support the claim that burglars are more likely to go to work during the time between Memorial Day to Labor Day? Please explain your answer. **(6 Points)**\n",
        "\n",
        "**Note:** You can assume that \"over 25%\" means only slightly over. Had it been much over, say closer to 30%, then the marketers would have said so.\n",
        "\n",
        "**Note:** Memorial Day is observed on the last Monday of May and Labor Day is observed on the first Monday of September.\n",
        "\n",
        "<!--\n",
        "BEGIN QUESTION\n",
        "name: q1\n",
        "manual: True\n",
        "-->"
      ],
      "id": "5kERk2Rbmdxv"
    },
    {
      "cell_type": "markdown",
      "metadata": {
        "id": "6YPHyhbtmdxv"
      },
      "source": [
        "_Type your answer here, replacing this text._"
      ],
      "id": "6YPHyhbtmdxv"
    },
    {
      "cell_type": "markdown",
      "metadata": {
        "deletable": false,
        "tags": [
          "deletable:false"
        ],
        "id": "yfEjXDlvmdxv"
      },
      "source": [
        "**SOLUTION:** No. Labor Day is around 14 weeks after Memorial Day, so the period between them is a bit more than 25% of the year (14/52 ~= 26%). 25% of burglaries happening in 25% of the year does not imply a higher rate of burglary in the summer."
      ],
      "id": "yfEjXDlvmdxv"
    },
    {
      "cell_type": "markdown",
      "metadata": {
        "id": "AHIp3cBGmdxv"
      },
      "source": [
        "<!-- END QUESTION -->\n",
        "\n",
        "\n",
        "\n",
        "## 2. Characters in Little Women\n"
      ],
      "id": "AHIp3cBGmdxv"
    },
    {
      "cell_type": "markdown",
      "metadata": {
        "id": "18mJ8JKbmdxw"
      },
      "source": [
        "In lecture, we counted the number of times that the literary characters were named in each chapter of the classic book, [*Little Women*](https://inferentialthinking.com/chapters/01/3/1/Literary_Characters.html?highlight=little%20women). In computer science, the word \"character\" also refers to a letter, digit, space, or punctuation mark; any single element of a text. The following code generates a scatter plot in which each dot corresponds to a chapter of *Little Women*. The horizontal position of a dot measures the number of periods in the chapter. The vertical position measures the total number of characters."
      ],
      "id": "18mJ8JKbmdxw"
    },
    {
      "cell_type": "code",
      "execution_count": null,
      "metadata": {
        "execution": {
          "iopub.execute_input": "2022-01-21T06:53:50.352491Z",
          "iopub.status.busy": "2022-01-21T06:53:50.351804Z",
          "iopub.status.idle": "2022-01-21T06:53:52.795179Z",
          "shell.execute_reply": "2022-01-21T06:53:52.794573Z"
        },
        "scrolled": true,
        "tags": [],
        "id": "t3HZoW9_mdxw"
      },
      "outputs": [],
      "source": [
        "# Just run this cell.\n",
        "\n",
        "# This cell contains code that hasn't yet been covered in the course,\n",
        "# but you should be able to interpret the scatter plot it generates.\n",
        "\n",
        "from datascience import *\n",
        "from urllib.request import urlopen\n",
        "import numpy as np\n",
        "import d8error\n",
        "%matplotlib inline\n",
        "\n",
        "little_women_url = 'https://www.inferentialthinking.com/data/little_women.txt'\n",
        "chapters = urlopen(little_women_url).read().decode().split('CHAPTER ')[1:]\n",
        "text = Table().with_column('Chapters', chapters)\n",
        "Table().with_columns(\n",
        "    'Periods',    np.char.count(chapters, '.'),\n",
        "    'Characters', text.apply(len, 0)\n",
        ").scatter(0)"
      ],
      "id": "t3HZoW9_mdxw"
    },
    {
      "cell_type": "markdown",
      "metadata": {
        "deletable": false,
        "editable": false,
        "id": "iqJwCpTemdxw"
      },
      "source": [
        "**Question 1.** Around how many periods are there in the chapter with the most characters? Assign either 1, 2, 3, 4, or 5 to the name `characters_q1` below. **(4 Points)**\n",
        "\n",
        "1. 250\n",
        "2. 390\n",
        "3. 440\n",
        "4. 32,000\n",
        "5. 40,000\n",
        "\n",
        "\n",
        "**Note:** If you run into a `NameError: name 'grader' is not defined` error in the autograder cell below (and in any assignment), please re-run the first cell at the very top of this notebook!\n",
        "\n",
        "<!--\n",
        "BEGIN QUESTION\n",
        "name: q2_1\n",
        "manual: false\n",
        "points:\n",
        " - 0\n",
        " - 4\n",
        "-->"
      ],
      "id": "iqJwCpTemdxw"
    },
    {
      "cell_type": "code",
      "execution_count": null,
      "metadata": {
        "execution": {
          "iopub.execute_input": "2022-01-21T06:53:52.800261Z",
          "iopub.status.busy": "2022-01-21T06:53:52.799643Z",
          "iopub.status.idle": "2022-01-21T06:53:52.803489Z",
          "shell.execute_reply": "2022-01-21T06:53:52.802912Z"
        },
        "id": "ZPVYKy0Ymdxw"
      },
      "outputs": [],
      "source": [
        "characters_q1 = 2 # SOLUTION"
      ],
      "id": "ZPVYKy0Ymdxw"
    },
    {
      "cell_type": "code",
      "execution_count": null,
      "metadata": {
        "deletable": false,
        "editable": false,
        "id": "17XrZY5Tmdxw"
      },
      "outputs": [],
      "source": [
        "grader.check(\"q2_1\")"
      ],
      "id": "17XrZY5Tmdxw"
    },
    {
      "cell_type": "markdown",
      "metadata": {
        "id": "AypSaL9Mmdxw"
      },
      "source": [
        "The test above checks that your answers are in the correct format. **This test does not check that you answered correctly**, only that you assigned a number successfully in each multiple-choice answer cell."
      ],
      "id": "AypSaL9Mmdxw"
    },
    {
      "cell_type": "markdown",
      "metadata": {
        "deletable": false,
        "editable": false,
        "id": "kkJHOPkEmdxw"
      },
      "source": [
        "**Question 2.** Which of the following chapters has the most characters per period? Assign either 1, 2, or 3 to the name `characters_q2` below. **(4 Points)**\n",
        "\n",
        "1. The chapter with about 60 periods\n",
        "2. The chapter with about 350 periods\n",
        "3. The chapter with about 440 periods\n",
        "\n",
        "<!--\n",
        "BEGIN QUESTION\n",
        "name: q2_2\n",
        "manual: false\n",
        "points:\n",
        " - 0\n",
        " - 4\n",
        "-->"
      ],
      "id": "kkJHOPkEmdxw"
    },
    {
      "cell_type": "code",
      "execution_count": null,
      "metadata": {
        "execution": {
          "iopub.execute_input": "2022-01-21T06:53:52.832596Z",
          "iopub.status.busy": "2022-01-21T06:53:52.832018Z",
          "iopub.status.idle": "2022-01-21T06:53:52.835696Z",
          "shell.execute_reply": "2022-01-21T06:53:52.835125Z"
        },
        "tags": [],
        "id": "DEFdc1YJmdxw"
      },
      "outputs": [],
      "source": [
        "characters_q2 = 1 # SOLUTION"
      ],
      "id": "DEFdc1YJmdxw"
    },
    {
      "cell_type": "code",
      "execution_count": null,
      "metadata": {
        "deletable": false,
        "editable": false,
        "id": "KgARCSZMmdxw"
      },
      "outputs": [],
      "source": [
        "grader.check(\"q2_2\")"
      ],
      "id": "KgARCSZMmdxw"
    },
    {
      "cell_type": "markdown",
      "metadata": {
        "id": "IfJlUnztmdxw"
      },
      "source": [
        "Again, the test above checks that your answers are in the correct format, but not that you have answered correctly."
      ],
      "id": "IfJlUnztmdxw"
    },
    {
      "cell_type": "markdown",
      "metadata": {
        "id": "GGmJlklVmdxx"
      },
      "source": [
        "To discover more interesting facts from this plot, check out [Section 1.3.2](https://inferentialthinking.com/chapters/01/3/2/Another_Kind_Of_Character.html) in the textbook."
      ],
      "id": "GGmJlklVmdxx"
    },
    {
      "cell_type": "markdown",
      "metadata": {
        "id": "gXuuKrBbmdxx"
      },
      "source": [
        "## 3. Names and Assignment Statements"
      ],
      "id": "gXuuKrBbmdxx"
    },
    {
      "cell_type": "markdown",
      "metadata": {
        "id": "IEIUgC0pmdxx"
      },
      "source": [
        "**Question 1.** When you run the following cell, Python produces a cryptic error message."
      ],
      "id": "IEIUgC0pmdxx"
    },
    {
      "cell_type": "code",
      "execution_count": null,
      "metadata": {
        "execution": {
          "iopub.execute_input": "2022-01-21T06:53:52.877579Z",
          "iopub.status.busy": "2022-01-21T06:53:52.876823Z",
          "iopub.status.idle": "2022-01-21T06:53:52.888003Z",
          "shell.execute_reply": "2022-01-21T06:53:52.888789Z"
        },
        "tags": [
          "raises-exception"
        ],
        "id": "4E46HC6jmdxx"
      },
      "outputs": [],
      "source": [
        "4 = 2 + 2"
      ],
      "id": "4E46HC6jmdxx"
    },
    {
      "cell_type": "markdown",
      "metadata": {
        "deletable": false,
        "editable": false,
        "id": "NwEEmZTXmdxx"
      },
      "source": [
        "Choose the best explanation of what's wrong with the code, and then assign 1, 2, 3, or 4 to `names_q1` below to indicate your answer. **(4 Points)**\n",
        "\n",
        "1. Python is smart and already knows `4 = 2 + 2`.\n",
        "\n",
        "2. In Python, it's a rule that the `=` sign must have a variable name to its left, and `4` isn't a variable name.\n",
        "\n",
        "3. It should be `2 + 2 = 4`.\n",
        "\n",
        "4. I don't get an error message. This is a trick question.\n",
        "\n",
        "<!--\n",
        "BEGIN QUESTION\n",
        "name: q3_1\n",
        "manual: False\n",
        "points:\n",
        " - 0\n",
        " - 4\n",
        "-->"
      ],
      "id": "NwEEmZTXmdxx"
    },
    {
      "cell_type": "code",
      "execution_count": null,
      "metadata": {
        "execution": {
          "iopub.execute_input": "2022-01-21T06:53:52.893534Z",
          "iopub.status.busy": "2022-01-21T06:53:52.892975Z",
          "iopub.status.idle": "2022-01-21T06:53:52.895594Z",
          "shell.execute_reply": "2022-01-21T06:53:52.895093Z"
        },
        "id": "7uLEFND3mdxx"
      },
      "outputs": [],
      "source": [
        "names_q1 = 2 # SOLUTION"
      ],
      "id": "7uLEFND3mdxx"
    },
    {
      "cell_type": "code",
      "execution_count": null,
      "metadata": {
        "deletable": false,
        "editable": false,
        "id": "7VMdhcFqmdxx"
      },
      "outputs": [],
      "source": [
        "grader.check(\"q3_1\")"
      ],
      "id": "7VMdhcFqmdxx"
    },
    {
      "cell_type": "markdown",
      "metadata": {
        "id": "YYYpi2sAmdxx"
      },
      "source": [
        "**Question 2.** When you run the following cell, Python will produce another cryptic error message."
      ],
      "id": "YYYpi2sAmdxx"
    },
    {
      "cell_type": "code",
      "execution_count": null,
      "metadata": {
        "execution": {
          "iopub.execute_input": "2022-01-21T06:53:52.917159Z",
          "iopub.status.busy": "2022-01-21T06:53:52.916520Z",
          "iopub.status.idle": "2022-01-21T06:53:53.035909Z",
          "shell.execute_reply": "2022-01-21T06:53:53.024015Z"
        },
        "tags": [
          "raises-exception"
        ],
        "id": "yMnoHkqRmdxx"
      },
      "outputs": [],
      "source": [
        "two = 3\n",
        "six = two plus two"
      ],
      "id": "yMnoHkqRmdxx"
    },
    {
      "cell_type": "markdown",
      "metadata": {
        "deletable": false,
        "editable": false,
        "id": "NIdgf1--mdxx"
      },
      "source": [
        "Choose the best explanation of what's wrong with the code and assign 1, 2, 3, or 4 to `names_q2` below to indicate your answer. **(4 Points)**\n",
        "\n",
        "1. The `plus` operation only applies to numbers, not the word \"two\".\n",
        "\n",
        "2. The name \"two\" cannot be assigned to the number 3.\n",
        "\n",
        "3. Two plus two is four, not six.\n",
        "\n",
        "4. The name `plus` isn't a built-in operator; instead, addition uses `+`.\n",
        "\n",
        "<!--\n",
        "BEGIN QUESTION\n",
        "name: q3_2\n",
        "manual: False\n",
        "points:\n",
        " - 0\n",
        " - 4\n",
        "-->"
      ],
      "id": "NIdgf1--mdxx"
    },
    {
      "cell_type": "code",
      "execution_count": null,
      "metadata": {
        "execution": {
          "iopub.execute_input": "2022-01-21T06:53:53.065079Z",
          "iopub.status.busy": "2022-01-21T06:53:53.040518Z",
          "iopub.status.idle": "2022-01-21T06:53:53.066226Z",
          "shell.execute_reply": "2022-01-21T06:53:53.065730Z"
        },
        "id": "Lm3lBz-mmdxx"
      },
      "outputs": [],
      "source": [
        "names_q2 = 4 # SOLUTION"
      ],
      "id": "Lm3lBz-mmdxx"
    },
    {
      "cell_type": "code",
      "execution_count": null,
      "metadata": {
        "deletable": false,
        "editable": false,
        "id": "U1YLW0xXmdxx"
      },
      "outputs": [],
      "source": [
        "grader.check(\"q3_2\")"
      ],
      "id": "U1YLW0xXmdxx"
    },
    {
      "cell_type": "markdown",
      "metadata": {
        "id": "3gWeJeZ9mdxx"
      },
      "source": [
        "**Question 3.** Run the following cell."
      ],
      "id": "3gWeJeZ9mdxx"
    },
    {
      "cell_type": "code",
      "execution_count": null,
      "metadata": {
        "execution": {
          "iopub.execute_input": "2022-01-21T06:53:53.090566Z",
          "iopub.status.busy": "2022-01-21T06:53:53.089947Z",
          "iopub.status.idle": "2022-01-21T06:53:53.093387Z",
          "shell.execute_reply": "2022-01-21T06:53:53.092821Z"
        },
        "tags": [
          "raises-exception"
        ],
        "id": "fuJvboTMmdxy"
      },
      "outputs": [],
      "source": [
        "x = 2\n",
        "y = 3 * x\n",
        "x = 4"
      ],
      "id": "fuJvboTMmdxy"
    },
    {
      "cell_type": "markdown",
      "metadata": {
        "deletable": false,
        "editable": false,
        "id": "klplRL8Cmdxy"
      },
      "source": [
        "What is `y` after running this cell, and why? Choose the best explanation and assign 1, 2, 3, or 4 to `names_q3` below to indicate your answer. **(4 Points)**\n",
        "\n",
        "1. `y` is equal to 6, because the second `x = 4` has no effect since `x` was already defined.\n",
        "\n",
        "2. `y` is equal to 6, because `x` was 2 when `y` was assigned, and 3 * 2 is 6.\n",
        "\n",
        "3. `y` is equal to 12, because `x` is 4 and 3 * 4 is 12.\n",
        "\n",
        "4. `y` is equal to 12, because assigning `x` to 4 will update `y` to 12 since `y` was defined in terms of `x`.\n",
        "\n",
        "<!--\n",
        "BEGIN QUESTION\n",
        "name: q3_3\n",
        "manual: false\n",
        "points:\n",
        " - 0\n",
        " - 4\n",
        "-->"
      ],
      "id": "klplRL8Cmdxy"
    },
    {
      "cell_type": "code",
      "execution_count": null,
      "metadata": {
        "execution": {
          "iopub.execute_input": "2022-01-21T06:53:53.100931Z",
          "iopub.status.busy": "2022-01-21T06:53:53.100078Z",
          "iopub.status.idle": "2022-01-21T06:53:53.102388Z",
          "shell.execute_reply": "2022-01-21T06:53:53.101601Z"
        },
        "id": "UxsFuOpzmdxy"
      },
      "outputs": [],
      "source": [
        "names_q3 = 2 # SOLUTION"
      ],
      "id": "UxsFuOpzmdxy"
    },
    {
      "cell_type": "code",
      "execution_count": null,
      "metadata": {
        "deletable": false,
        "editable": false,
        "id": "m2U7kBnEmdxy"
      },
      "outputs": [],
      "source": [
        "grader.check(\"q3_3\")"
      ],
      "id": "m2U7kBnEmdxy"
    },
    {
      "cell_type": "markdown",
      "metadata": {
        "id": "R2QrXCJTmdxy"
      },
      "source": [
        "## 4. Differences Between Majors"
      ],
      "id": "R2QrXCJTmdxy"
    },
    {
      "cell_type": "markdown",
      "metadata": {
        "id": "spVLAIjHmdxy"
      },
      "source": [
        "Berkeley’s Office of Planning and Analysis provides data on numerous aspects of the campus. Adapted from the OPA website, the table below displays the number of degree recipients in three majors in the 2008-2009 and 2017-2018 academic years.\n",
        "\n",
        "| Major                              | 2008-2009    | 2017-2018   |\n",
        "|------------------------------------|--------------|-------------|\n",
        "| Gender and Women's Studies         |      17      |    28       |\n",
        "| Linguistics                        |      49      |    67       |\n",
        "| Rhetoric                           |      113     |    56       |\n",
        "\n"
      ],
      "id": "spVLAIjHmdxy"
    },
    {
      "cell_type": "markdown",
      "metadata": {
        "deletable": false,
        "editable": false,
        "id": "Walkz2p3mdxy"
      },
      "source": [
        "**Question 1.** Suppose you want to find the **biggest** absolute difference between the number of degree recipients in the two years, among the three majors.\n",
        "\n",
        "In the cell below, compute this value and call it `biggest_change`. Use a single expression (a single line of code) to compute the answer. Let Python perform all the arithmetic (like subtracting 49 from 67) rather than simplifying the expression yourself. The built-in `abs` function takes a numerical input and returns the absolute value. The built-in `max` function can take in 3 arguments and returns the maximum of the three numbers. **(5 Points)**\n",
        "\n",
        "<!--\n",
        "BEGIN QUESTION\n",
        "name: q4_1\n",
        "manual: False\n",
        "points:\n",
        " - 0\n",
        " - 5\n",
        "-->"
      ],
      "id": "Walkz2p3mdxy"
    },
    {
      "cell_type": "code",
      "execution_count": null,
      "metadata": {
        "deletable": false,
        "execution": {
          "iopub.execute_input": "2022-01-21T06:53:53.128436Z",
          "iopub.status.busy": "2022-01-21T06:53:53.127556Z",
          "iopub.status.idle": "2022-01-21T06:53:53.131146Z",
          "shell.execute_reply": "2022-01-21T06:53:53.131605Z"
        },
        "id": "O4n3Kuvzmdxy"
      },
      "outputs": [],
      "source": [
        "biggest_change = max(abs(17 - 28), abs(49 - 67), abs(113 - 56)) # SOLUTION\n",
        "biggest_change"
      ],
      "id": "O4n3Kuvzmdxy"
    },
    {
      "cell_type": "code",
      "execution_count": null,
      "metadata": {
        "deletable": false,
        "editable": false,
        "id": "ZhbHBsstmdx7"
      },
      "outputs": [],
      "source": [
        "grader.check(\"q4_1\")"
      ],
      "id": "ZhbHBsstmdx7"
    },
    {
      "cell_type": "markdown",
      "metadata": {
        "deletable": false,
        "editable": false,
        "id": "eH1GPCtgmdx7"
      },
      "source": [
        "**Question 2.** Which of the three majors had the **smallest** absolute difference? Assign `smallest_change_major` to 1, 2, or 3 where each number corresponds to the following major:\n",
        "\n",
        "1. Gender and Women's Studies  \n",
        "2. Linguistics  \n",
        "3. Rhetoric\n",
        "\n",
        "Choose the number that corresponds to the major with the smallest absolute difference.\n",
        "\n",
        "You should be able to answer by rough mental arithmetic, without having to calculate the exact value for each major. **(4 Points)**\n",
        "\n",
        "<!--\n",
        "BEGIN QUESTION\n",
        "name: q4_2\n",
        "manual: False\n",
        "points:\n",
        " - 0\n",
        " - 4\n",
        "-->"
      ],
      "id": "eH1GPCtgmdx7"
    },
    {
      "cell_type": "code",
      "execution_count": null,
      "metadata": {
        "deletable": false,
        "execution": {
          "iopub.execute_input": "2022-01-21T06:53:53.195711Z",
          "iopub.status.busy": "2022-01-21T06:53:53.194805Z",
          "iopub.status.idle": "2022-01-21T06:53:53.199771Z",
          "shell.execute_reply": "2022-01-21T06:53:53.200254Z"
        },
        "id": "nSJRYBPamdx7"
      },
      "outputs": [],
      "source": [
        "smallest_change_major = 1 # SOLUTION\n",
        "smallest_change_major"
      ],
      "id": "nSJRYBPamdx7"
    },
    {
      "cell_type": "code",
      "execution_count": null,
      "metadata": {
        "deletable": false,
        "editable": false,
        "id": "jlQgDXdUmdx8"
      },
      "outputs": [],
      "source": [
        "grader.check(\"q4_2\")"
      ],
      "id": "jlQgDXdUmdx8"
    },
    {
      "cell_type": "markdown",
      "metadata": {
        "deletable": false,
        "editable": false,
        "id": "lSmTUxYfmdx8"
      },
      "source": [
        "**Question 3.**  For each major, define the “relative change” to be the following: $\\large{\\frac{\\text{absolute difference}}{\\text{value in 2008-2009}} * 100}$\n",
        "\n",
        "Fill in the code below such that `gws_relative_change`, `linguistics_relative_change` and `rhetoric_relative_change` are assigned to the relative changes for their respective majors. **(5 Points)**\n",
        "\n",
        "<!--\n",
        "BEGIN QUESTION\n",
        "name: q4_3\n",
        "manual: False\n",
        "points:\n",
        " - 0\n",
        " - 0\n",
        " - 0\n",
        " - 1\n",
        " - 2\n",
        " - 2\n",
        "-->"
      ],
      "id": "lSmTUxYfmdx8"
    },
    {
      "cell_type": "code",
      "execution_count": null,
      "metadata": {
        "deletable": false,
        "execution": {
          "iopub.execute_input": "2022-01-21T06:53:53.225386Z",
          "iopub.status.busy": "2022-01-21T06:53:53.224405Z",
          "iopub.status.idle": "2022-01-21T06:53:53.228547Z",
          "shell.execute_reply": "2022-01-21T06:53:53.229030Z"
        },
        "for_assignment_type": "student",
        "id": "rwBnMWUXmdx8"
      },
      "outputs": [],
      "source": [
        "\"\"\"# BEGIN PROMPT\n",
        "gws_relative_change = (abs(...) / 17) * 100\n",
        "\"\"\"; # END PROMPT\n",
        "gws_relative_change = (abs(17 - 28) / 17) * 100 # SOLUTION NO PROMPT\n",
        "linguistics_relative_change = (abs(49 - 67) / 49) * 100 # SOLUTION\n",
        "rhetoric_relative_change = (abs(113 - 56) / 113) * 100 # SOLUTION\n",
        "gws_relative_change, linguistics_relative_change, rhetoric_relative_change"
      ],
      "id": "rwBnMWUXmdx8"
    },
    {
      "cell_type": "code",
      "execution_count": null,
      "metadata": {
        "deletable": false,
        "editable": false,
        "id": "DN6a1sKWmdx8"
      },
      "outputs": [],
      "source": [
        "grader.check(\"q4_3\")"
      ],
      "id": "DN6a1sKWmdx8"
    },
    {
      "cell_type": "markdown",
      "metadata": {
        "deletable": false,
        "editable": false,
        "id": "LMMSkQn7mdx8"
      },
      "source": [
        "**Question 4.** Assign `biggest_rel_change_major` to 1, 2, or 3 where each number corresponds to to the following:\n",
        "\n",
        "1. Gender and Women's Studies  \n",
        "2. Linguistics  \n",
        "3. Rhetoric\n",
        "\n",
        "Choose the number that corresponds to the major with the biggest relative change. **(4 Points)**\n",
        "\n",
        "<!--\n",
        "BEGIN QUESTION\n",
        "name: q4_4\n",
        "manual: False\n",
        "points:\n",
        " - 0\n",
        " - 4\n",
        "-->"
      ],
      "id": "LMMSkQn7mdx8"
    },
    {
      "cell_type": "code",
      "execution_count": null,
      "metadata": {
        "deletable": false,
        "execution": {
          "iopub.execute_input": "2022-01-21T06:53:53.325009Z",
          "iopub.status.busy": "2022-01-21T06:53:53.324199Z",
          "iopub.status.idle": "2022-01-21T06:53:53.364047Z",
          "shell.execute_reply": "2022-01-21T06:53:53.328025Z"
        },
        "id": "YQ1HrKfTmdx8"
      },
      "outputs": [],
      "source": [
        "biggest_rel_change_major = 1 #SOLUTION\n",
        "biggest_rel_change_major"
      ],
      "id": "YQ1HrKfTmdx8"
    },
    {
      "cell_type": "code",
      "execution_count": null,
      "metadata": {
        "deletable": false,
        "editable": false,
        "id": "MxC_btUxmdx8"
      },
      "outputs": [],
      "source": [
        "grader.check(\"q4_4\")"
      ],
      "id": "MxC_btUxmdx8"
    },
    {
      "cell_type": "markdown",
      "metadata": {
        "id": "lxt10Kzzmdx8"
      },
      "source": [
        "## 5. Nearsightedness Study"
      ],
      "id": "lxt10Kzzmdx8"
    },
    {
      "cell_type": "markdown",
      "metadata": {
        "id": "WtAaAgQLmdx8"
      },
      "source": [
        "[Myopia](https://en.wikipedia.org/wiki/Myopia), or nearsightedness, results from a number of genetic and environmental factors. In 1999, Quinn et al studied the relation between myopia and ambient lighting at night (for example, from nightlights or room lights) during childhood."
      ],
      "id": "WtAaAgQLmdx8"
    },
    {
      "cell_type": "markdown",
      "metadata": {
        "deletable": false,
        "editable": false,
        "id": "8erk_K0-mdx8"
      },
      "source": [
        "<!-- BEGIN QUESTION -->\n",
        "\n",
        "**Question 1.** The data were gathered by the following procedure, reported in the study. \"Between January and June 1998, parents of children aged 2-16 years [...] that were seen as outpatients in a university pediatric ophthalmology clinic completed a questionnaire on the child's light exposure both at present and before the age of 2 years.\" Was this study observational, or was it a controlled experiment? Explain. **(5 Points)**\n",
        "\n",
        "<!--\n",
        "BEGIN QUESTION\n",
        "name: q5_1\n",
        "manual: True\n",
        "-->"
      ],
      "id": "8erk_K0-mdx8"
    },
    {
      "cell_type": "markdown",
      "metadata": {
        "id": "jUYXxQBXmdx9"
      },
      "source": [
        "_Type your answer here, replacing this text._"
      ],
      "id": "jUYXxQBXmdx9"
    },
    {
      "cell_type": "markdown",
      "metadata": {
        "deletable": false,
        "tags": [
          "deletable:false"
        ],
        "id": "OtIlW7RUmdx9"
      },
      "source": [
        "**SOLUTION:** It was an observational study.  The researchers didn't perform any intervention."
      ],
      "id": "OtIlW7RUmdx9"
    },
    {
      "cell_type": "markdown",
      "metadata": {
        "deletable": false,
        "editable": false,
        "id": "i_Cr9Fszmdx9"
      },
      "source": [
        "<!-- END QUESTION -->\n",
        "\n",
        "<!-- BEGIN QUESTION -->\n",
        "\n",
        "**Question 2.** The study found that of the children who slept with a room light on before the age of 2, 55% were myopic. Of the children who slept with a night light on before the age of 2, 34% were myopic. Of the children who slept in the dark before the age of 2, 10% were myopic. The study concluded the following: \"The prevalence of myopia [...] during childhood was strongly associated with ambient light exposure during sleep at night in the first two years after birth.\"\n",
        "\n",
        "Do the data support this statement? Why or why not? You may interpret \"strongly\" in any reasonable qualitative way. **(5 Points)**\n",
        "\n",
        "<!--\n",
        "BEGIN QUESTION\n",
        "name: q5_2\n",
        "manual: True\n",
        "-->"
      ],
      "id": "i_Cr9Fszmdx9"
    },
    {
      "cell_type": "markdown",
      "metadata": {
        "id": "MWAfPIusmdx9"
      },
      "source": [
        "_Type your answer here, replacing this text._"
      ],
      "id": "MWAfPIusmdx9"
    },
    {
      "cell_type": "markdown",
      "metadata": {
        "deletable": false,
        "tags": [
          "deletable:false"
        ],
        "id": "BEPvcRodmdx9"
      },
      "source": [
        "**SOLUTION:** Yes.  There is a big difference in myopia rates between the groups."
      ],
      "id": "BEPvcRodmdx9"
    },
    {
      "cell_type": "markdown",
      "metadata": {
        "deletable": false,
        "editable": false,
        "id": "dOH053C7mdx9"
      },
      "source": [
        "<!-- END QUESTION -->\n",
        "\n",
        "<!-- BEGIN QUESTION -->\n",
        "\n",
        "**Question 3.** On May 13, 1999, CNN reported the results of this study under the headline, \"Night light may lead to nearsightedness.\" Does the conclusion of the study claim that night light causes nearsightedness? **(5 Points)**\n",
        "\n",
        "<!--\n",
        "BEGIN QUESTION\n",
        "name: q5_3\n",
        "manual: True\n",
        "-->"
      ],
      "id": "dOH053C7mdx9"
    },
    {
      "cell_type": "markdown",
      "metadata": {
        "id": "1r1QKUQJmdx9"
      },
      "source": [
        "_Type your answer here, replacing this text._"
      ],
      "id": "1r1QKUQJmdx9"
    },
    {
      "cell_type": "markdown",
      "metadata": {
        "deletable": false,
        "tags": [
          "deletable:false"
        ],
        "id": "2y-MV9Xymdx9"
      },
      "source": [
        "**SOLUTION:** No.  The study (as quoted above) claimed only an association."
      ],
      "id": "2y-MV9Xymdx9"
    },
    {
      "cell_type": "markdown",
      "metadata": {
        "deletable": false,
        "editable": false,
        "id": "-Kr0tv6nmdx9"
      },
      "source": [
        "<!-- END QUESTION -->\n",
        "\n",
        "<!-- BEGIN QUESTION -->\n",
        "\n",
        "**Question 4.** The final paragraph of the CNN report said that \"several eye specialists\" had pointed out that the study should have accounted for heredity.\n",
        "\n",
        "Myopia is passed down from parents to children. Myopic parents are more likely to have myopic children, and may also be more likely to leave lights on habitually (since the parents have poor vision). In what way does the knowledge of this possible genetic link affect how we interpret the data from the study? Explain. **(5 Points)**\n",
        "\n",
        "<!--\n",
        "BEGIN QUESTION\n",
        "name: q5_4\n",
        "manual: True\n",
        "-->"
      ],
      "id": "-Kr0tv6nmdx9"
    },
    {
      "cell_type": "markdown",
      "metadata": {
        "id": "DoetvNB2mdx9"
      },
      "source": [
        "_Type your answer here, replacing this text._"
      ],
      "id": "DoetvNB2mdx9"
    },
    {
      "cell_type": "markdown",
      "metadata": {
        "deletable": false,
        "tags": [
          "deletable:false"
        ],
        "id": "0S6J5YYrmdx9"
      },
      "source": [
        "**SOLUTION:** If myopic parents are more likely to have myopic kids *and* leave the lights on at night, then myopic kids are more likely to have lights on at night. It is then reasonable to assume that myopic parents are a potential confounding factor that the observational study did not account for. However, we can still find the observed association even if there is no causal effect of night lights on child myopia."
      ],
      "id": "0S6J5YYrmdx9"
    },
    {
      "cell_type": "markdown",
      "metadata": {
        "id": "4eENi7A1mdx9"
      },
      "source": [
        "<!-- END QUESTION -->\n",
        "\n",
        "\n",
        "\n",
        "## 6. Studying the Survivors"
      ],
      "id": "4eENi7A1mdx9"
    },
    {
      "cell_type": "markdown",
      "metadata": {
        "deletable": false,
        "editable": false,
        "id": "cIBzr5sfmdx9"
      },
      "source": [
        "The Reverend Henry Whitehead was skeptical of John Snow’s conclusion about the Broad Street pump. After the Broad Street cholera epidemic ended, Whitehead set about trying to prove Snow wrong.  (The history of the event is detailed [here](http://www.ncbi.nlm.nih.gov/pmc/articles/PMC1034367/pdf/medhist00183-0026.pdf).)\n",
        "\n",
        "He realized that Snow had focused his analysis almost entirely on those who had died. Whitehead, therefore, investigated the drinking habits of people in the Broad Street area who had not died in the outbreak.\n",
        "\n",
        "What is the main reason it was important to study this group? Assign either 1, 2, or 3 to the name `survivor_answer` below. **(4 Points)**\n",
        "\n",
        "1. If Whitehead had found that many people had drunk water from the Broad Street pump and not caught cholera, that would have been evidence against Snow's hypothesis.\n",
        "\n",
        "2. Survivors could provide additional information about what else could have caused the cholera, potentially unearthing another cause.\n",
        "\n",
        "3. Through considering the survivors, Whitehead could have identified a cure for cholera.\n",
        "\n",
        "<!--\n",
        "BEGIN QUESTION\n",
        "name: q6_1\n",
        "manual: False\n",
        "points:\n",
        " - 0\n",
        " - 4\n",
        "-->"
      ],
      "id": "cIBzr5sfmdx9"
    },
    {
      "cell_type": "code",
      "execution_count": null,
      "metadata": {
        "deletable": false,
        "execution": {
          "iopub.execute_input": "2022-01-21T06:53:53.391671Z",
          "iopub.status.busy": "2022-01-21T06:53:53.390755Z",
          "iopub.status.idle": "2022-01-21T06:53:53.394489Z",
          "shell.execute_reply": "2022-01-21T06:53:53.393740Z"
        },
        "tags": [],
        "id": "L8vxn83Gmdx9"
      },
      "outputs": [],
      "source": [
        "survivor_answer = 1 # SOLUTION"
      ],
      "id": "L8vxn83Gmdx9"
    },
    {
      "cell_type": "code",
      "execution_count": null,
      "metadata": {
        "deletable": false,
        "editable": false,
        "id": "fwIcXzqcmdx9"
      },
      "outputs": [],
      "source": [
        "grader.check(\"q6_1\")"
      ],
      "id": "fwIcXzqcmdx9"
    },
    {
      "cell_type": "markdown",
      "metadata": {
        "id": "anz9o66Gmdx9"
      },
      "source": [
        "**Note:** Whitehead ended up finding further proof that the Broad Street pump played a central role in spreading the disease to the people who lived near it. Eventually, he became one of Snow’s greatest defenders."
      ],
      "id": "anz9o66Gmdx9"
    },
    {
      "cell_type": "markdown",
      "metadata": {
        "id": "5O_EhrAfmdx-"
      },
      "source": [
        "You're done with Homework 1!  \n",
        "\n",
        "**Important submission steps:**\n",
        "1. Run the tests and verify that they all pass.\n",
        "2. Choose **Save Notebook** from the **File** menu, then **run the final cell**.\n",
        "3. Click the link to download the zip file.\n",
        "4. Then submit the zip file to the corresponding assignment according to your instructor's directions.\n",
        "\n",
        "**It is your responsibility to make sure your work is saved before running the last cell.**\n"
      ],
      "id": "5O_EhrAfmdx-"
    },
    {
      "cell_type": "markdown",
      "metadata": {
        "deletable": false,
        "editable": false,
        "id": "p3YP3NFymdx-"
      },
      "source": [
        "---\n",
        "\n",
        "To double-check your work, the cell below will rerun all of the autograder tests."
      ],
      "id": "p3YP3NFymdx-"
    },
    {
      "cell_type": "code",
      "execution_count": null,
      "metadata": {
        "deletable": false,
        "editable": false,
        "id": "5HWREklQmdx-"
      },
      "outputs": [],
      "source": [
        "grader.check_all()"
      ],
      "id": "5HWREklQmdx-"
    },
    {
      "cell_type": "markdown",
      "metadata": {
        "deletable": false,
        "editable": false,
        "id": "SBlWoaVymdx-"
      },
      "source": [
        "## Submission\n",
        "\n",
        "Make sure you have run all cells in your notebook in order before running the cell below, so that all images/graphs appear in the output. The cell below will generate a zip file for you to submit. **Please save before exporting!**"
      ],
      "id": "SBlWoaVymdx-"
    },
    {
      "cell_type": "code",
      "execution_count": null,
      "metadata": {
        "deletable": false,
        "editable": false,
        "id": "HLnNCeAmmdx-"
      },
      "outputs": [],
      "source": [
        "# Save your notebook first, then run this cell to export your submission.\n",
        "grader.export(pdf=False)"
      ],
      "id": "HLnNCeAmmdx-"
    },
    {
      "cell_type": "markdown",
      "metadata": {
        "id": "6XMtTJ30mdx-"
      },
      "source": [],
      "id": "6XMtTJ30mdx-"
    }
  ],
  "metadata": {
    "kernelspec": {
      "display_name": "Python 3",
      "language": "python",
      "name": "python3"
    },
    "language_info": {
      "codemirror_mode": {
        "name": "ipython",
        "version": 3
      },
      "file_extension": ".py",
      "mimetype": "text/x-python",
      "name": "python",
      "nbconvert_exporter": "python",
      "pygments_lexer": "ipython3",
      "version": "3.7.6"
    },
    "colab": {
      "provenance": [],
      "include_colab_link": true
    }
  },
  "nbformat": 4,
  "nbformat_minor": 5
}